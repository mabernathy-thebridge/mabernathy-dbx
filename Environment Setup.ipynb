{
 "cells": [
  {
   "cell_type": "code",
   "execution_count": 0,
   "metadata": {
    "application/vnd.databricks.v1+cell": {
     "cellMetadata": {
      "byteLimit": 2048000,
      "rowLimit": 10000
     },
     "inputWidgets": {},
     "nuid": "48f7465f-1687-415f-aa20-c68fe377d589",
     "showTitle": false,
     "tableResultSettingsMap": {},
     "title": ""
    }
   },
   "outputs": [],
   "source": [
    "# Copy all tables to new schema from sample data\n",
    "\n",
    "tables = spark.sql(\"SHOW TABLES IN samples.tpch\").collect()\n",
    "\n",
    "for i in tables:\n",
    "    if i[1] != \"_sqldf\":\n",
    "        print(i[1])\n",
    "        df = spark.sql(\"SELECT * FROM samples.tpch.\" + i[1])\n",
    "        df.write.saveAsTable(\"practice_sandbox.ma_sandbox.\" + i[1])\n",
    "\n",
    "# display(df)"
   ]
  },
  {
   "cell_type": "code",
   "execution_count": 0,
   "metadata": {
    "application/vnd.databricks.v1+cell": {
     "cellMetadata": {
      "byteLimit": 2048000,
      "implicitDf": true,
      "rowLimit": 10000
     },
     "inputWidgets": {},
     "nuid": "f832e2bd-7bbd-484d-a241-ff7cad266be8",
     "showTitle": false,
     "tableResultSettingsMap": {},
     "title": ""
    }
   },
   "outputs": [],
   "source": [
    "df1 = spark.sql(\"\"\"\n",
    "SELECT * \n",
    "FROM practice_sandbox.ma_sandbox.lineitem li\n",
    "JOIN practice_sandbox.ma_sandbox.orders o ON li.l_orderkey = o.o_orderkey\n",
    "JOIN practice_sandbox.ma_sandbox.customer c ON o.o_custkey = c.c_custkey\n",
    "\"\"\")\n",
    "\n",
    "print(df1.count())\n",
    "df1.write.option(\"overwrite\").saveAsTable(\"practice_sandbox.ma_sandbox.order_info\")"
   ]
  }
 ],
 "metadata": {
  "application/vnd.databricks.v1+notebook": {
   "computePreferences": null,
   "dashboards": [],
   "environmentMetadata": {
    "base_environment": "",
    "environment_version": "2"
   },
   "language": "python",
   "notebookMetadata": {
    "mostRecentlyExecutedCommandWithImplicitDF": {
     "commandId": 2866533021096258,
     "dataframes": [
      "_sqldf"
     ]
    },
    "pythonIndentUnit": 4
   },
   "notebookName": "Environment Setup",
   "widgets": {}
  },
  "language_info": {
   "name": "python"
  }
 },
 "nbformat": 4,
 "nbformat_minor": 0
}
