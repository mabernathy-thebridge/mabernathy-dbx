{
 "cells": [
  {
   "cell_type": "code",
   "execution_count": 0,
   "metadata": {
    "application/vnd.databricks.v1+cell": {
     "cellMetadata": {
      "byteLimit": 2048000,
      "rowLimit": 10000
     },
     "inputWidgets": {},
     "nuid": "9be17950-cc72-4b76-bcd5-9e503374262f",
     "showTitle": false,
     "tableResultSettingsMap": {},
     "title": ""
    }
   },
   "outputs": [],
   "source": [
    "def generate_select(schema_name, table_name):\n",
    "    df = spark.sql(f'show columns in {schema_name}.{table_name}').collect()\n",
    "    query = f\"\"\"SELECT{'  ' + ',  '.join([row[0] for row in df])}\n",
    "    FROM {schema_name}.{table_name}\n",
    "    \"\"\"\n",
    "    return query\n",
    "\n",
    "\n",
    "tables = spark.sql(\"SHOW TABLES IN practice_sandbox.ma_sandbox\").collect()\n",
    "\n",
    "for i in tables:\n",
    "    if i[1] != \"_sqldf\": \n",
    "        table_name = i[1]\n",
    "        output = generate_select('practice_sandbox.ma_sandbox', table_name)\n",
    "        file_path = f'/Workspace/Users/matthew.abernathy@thebridge.com/mabernathy-dbx/configs/bronze/{table_name}.sql'\n",
    "\n",
    "    with open(file_path, \"w\") as file:\n",
    "        file.write(output)"
   ]
  }
 ],
 "metadata": {
  "application/vnd.databricks.v1+notebook": {
   "computePreferences": null,
   "dashboards": [],
   "environmentMetadata": {
    "base_environment": "",
    "environment_version": "2"
   },
   "language": "python",
   "notebookMetadata": {
    "pythonIndentUnit": 4
   },
   "notebookName": "Build Bronze SQL",
   "widgets": {}
  },
  "language_info": {
   "name": "python"
  }
 },
 "nbformat": 4,
 "nbformat_minor": 0
}
