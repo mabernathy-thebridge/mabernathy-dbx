{
 "cells": [
  {
   "cell_type": "code",
   "execution_count": 0,
   "metadata": {
    "application/vnd.databricks.v1+cell": {
     "cellMetadata": {},
     "inputWidgets": {},
     "nuid": "4bcfb8ac-c581-40f7-8726-de33413e114f",
     "showTitle": false,
     "tableResultSettingsMap": {},
     "title": ""
    }
   },
   "outputs": [],
   "source": []
  },
  {
   "cell_type": "code",
   "execution_count": 0,
   "metadata": {
    "application/vnd.databricks.v1+cell": {
     "cellMetadata": {
      "byteLimit": 2048000,
      "rowLimit": 10000
     },
     "inputWidgets": {},
     "nuid": "0eb9add9-4d3b-45c2-83b2-d1fb3e586702",
     "showTitle": false,
     "tableResultSettingsMap": {},
     "title": ""
    }
   },
   "outputs": [],
   "source": [
    "df = spark.sql(\"\"\"\n",
    "WITH customer_orders AS (\n",
    "    SELECT \n",
    "        c.c_custkey,\n",
    "        c.c_mktsegment,\n",
    "        c.c_nationkey,\n",
    "        o.o_orderkey,\n",
    "        o.o_orderdate,\n",
    "        o.o_totalprice,\n",
    "        l.l_quantity,\n",
    "        l.l_extendedprice,\n",
    "        p.p_type\n",
    "    FROM practice_sandbox.ma_sandbox.silver_customer c\n",
    "    LEFT JOIN practice_sandbox.ma_sandbox.silver_orders o\n",
    "        ON c.c_custkey = o.o_custkey\n",
    "    LEFT JOIN practice_sandbox.ma_sandbox.silver_lineitem l\n",
    "        ON o.o_orderkey = l.l_orderkey\n",
    "    LEFT JOIN practice_sandbox.ma_sandbox.silver_part p\n",
    "        ON l.l_partkey = p.p_partkey\n",
    "),\n",
    "\n",
    "customer_metrics AS (\n",
    "    SELECT \n",
    "        c_custkey,\n",
    "        c_mktsegment,\n",
    "        c_nationkey,\n",
    "        COUNT(DISTINCT o_orderkey) as total_orders,\n",
    "        SUM(o_totalprice) as total_spent,\n",
    "        AVG(o_totalprice) as avg_order_value,\n",
    "        MAX(o_orderdate) as last_order_date,\n",
    "        MIN(o_orderdate) as first_order_date,\n",
    "        datediff(MAX(o_orderdate), MIN(o_orderdate)) as customer_lifetime_days,\n",
    "        SUM(l_quantity) as total_items_purchased,\n",
    "        COUNT(DISTINCT p_type) as unique_product_types\n",
    "    FROM customer_orders\n",
    "    GROUP BY 1, 2, 3\n",
    ")\n",
    "SELECT \n",
    "    cm.*,\n",
    "    n.n_name as nation_name,\n",
    "    r.r_name as region_name,\n",
    "    CASE \n",
    "        WHEN total_spent > 10000000 THEN 'High Value'\n",
    "        WHEN total_spent > 5000000 THEN 'Medium Value'\n",
    "        ELSE 'Low Value'\n",
    "    END as customer_segment,\n",
    "    current_timestamp() as model_timestamp\n",
    "FROM customer_metrics cm\n",
    "LEFT JOIN practice_sandbox.ma_sandbox.silver_nation n\n",
    "    ON cm.c_nationkey = n.n_nationkey\n",
    "LEFT JOIN practice_sandbox.ma_sandbox.silver_region r\n",
    "    ON n.n_regionkey = r.r_regionkey\n",
    "ORDER BY total_spent desc\n",
    "\n",
    "\"\"\")"
   ]
  },
  {
   "cell_type": "code",
   "execution_count": 0,
   "metadata": {
    "application/vnd.databricks.v1+cell": {
     "cellMetadata": {
      "byteLimit": 2048000,
      "rowLimit": 10000
     },
     "inputWidgets": {},
     "nuid": "b8359c1d-7ac7-4711-a621-0efcf08cb863",
     "showTitle": false,
     "tableResultSettingsMap": {},
     "title": ""
    }
   },
   "outputs": [
    {
     "output_type": "display_data",
     "data": {
      "text/plain": [
       "Databricks visualization. Run in Databricks to view."
      ]
     },
     "metadata": {
      "application/vnd.databricks.v1.subcommand+json": {
       "baseErrorDetails": null,
       "bindings": {},
       "collapsed": false,
       "command": "%python\n__backend_agg_display_orig = display\n__backend_agg_dfs = []\ndef __backend_agg_display_new(df):\n    __backend_agg_df_modules = [\"pandas.core.frame\", \"databricks.koalas.frame\", \"pyspark.sql.dataframe\", \"pyspark.pandas.frame\", \"pyspark.sql.connect.dataframe\"]\n    if (type(df).__module__ in __backend_agg_df_modules and type(df).__name__ == 'DataFrame') or isinstance(df, list):\n        __backend_agg_dfs.append(df)\n\ndisplay = __backend_agg_display_new\n\ndef __backend_agg_user_code_fn():\n    import base64\n    exec(base64.standard_b64decode(\"ZGlzcGxheShkZik=\").decode())\n\ntry:\n    # run user code\n    __backend_agg_user_code_fn()\n\n    #reset display function\n    display = __backend_agg_display_orig\n\n    if len(__backend_agg_dfs) > 0:\n        # create a temp view\n        if type(__backend_agg_dfs[0]).__module__ == \"databricks.koalas.frame\":\n            # koalas dataframe\n            __backend_agg_dfs[0].to_spark().createOrReplaceTempView(\"DatabricksViewc8bbf8e\")\n        elif type(__backend_agg_dfs[0]).__module__ == \"pandas.core.frame\" or isinstance(__backend_agg_dfs[0], list):\n            # pandas dataframe\n            spark.createDataFrame(__backend_agg_dfs[0]).createOrReplaceTempView(\"DatabricksViewc8bbf8e\")\n        else:\n            __backend_agg_dfs[0].createOrReplaceTempView(\"DatabricksViewc8bbf8e\")\n        #run backend agg\n        display(spark.sql(\"\"\"WITH q AS (select * from DatabricksViewc8bbf8e) SELECT `nation_name`,SUM(`total_spent`) `column_492e263b208` FROM q GROUP BY `nation_name`\"\"\"))\n    else:\n        displayHTML(\"dataframe no longer exists. If you're using dataframe.display(), use display(dataframe) instead.\")\n\n\nfinally:\n    spark.sql(\"drop view if exists DatabricksViewc8bbf8e\")\n    display = __backend_agg_display_orig\n    del __backend_agg_display_new\n    del __backend_agg_display_orig\n    del __backend_agg_dfs\n    del __backend_agg_user_code_fn\n\n",
       "commandTitle": "Visualization 1",
       "commandType": "auto",
       "commandVersion": 0,
       "commentThread": [],
       "commentsVisible": false,
       "contentSha256Hex": null,
       "customPlotOptions": {
        "redashChart": [
         {
          "key": "type",
          "value": "CHART"
         },
         {
          "key": "options",
          "value": {
           "alignYAxesAtZero": true,
           "coefficient": 1,
           "columnConfigurationMap": {
            "x": {
             "column": "nation_name",
             "id": "column_492e263b218"
            },
            "y": [
             {
              "column": "total_spent",
              "id": "column_492e263b208",
              "transform": "SUM"
             }
            ]
           },
           "dateTimeFormat": "DD/MM/YYYY HH:mm",
           "direction": {
            "type": "counterclockwise"
           },
           "error_y": {
            "type": "data",
            "visible": true
           },
           "globalSeriesType": "column",
           "isAggregationOn": true,
           "legend": {
            "traceorder": "normal"
           },
           "missingValuesAsZero": true,
           "numberFormat": "0,0.[00000]",
           "percentFormat": "0[.]00%",
           "series": {
            "error_y": {
             "type": "data",
             "visible": true
            },
            "stacking": null
           },
           "seriesOptions": {
            "column_492e263b202": {
             "type": "column",
             "yAxis": 0
            },
            "column_492e263b205": {
             "type": "column",
             "yAxis": 0
            },
            "column_492e263b208": {
             "type": "column",
             "yAxis": 0
            }
           },
           "showDataLabels": false,
           "sizemode": "diameter",
           "sortX": true,
           "sortY": true,
           "swappedAxes": false,
           "textFormat": "",
           "useAggregationsUi": true,
           "valuesOptions": {},
           "version": 2,
           "xAxis": {
            "labels": {
             "enabled": true
            },
            "type": "-"
           },
           "yAxis": [
            {
             "type": "logarithmic"
            },
            {
             "opposite": true,
             "type": "-"
            }
           ]
          }
         }
        ]
       },
       "datasetPreviewNameToCmdIdMap": {},
       "diffDeletes": [],
       "diffInserts": [],
       "displayType": "redashChart",
       "error": null,
       "errorDetails": null,
       "errorSummary": null,
       "errorTraceType": null,
       "finishTime": 1741804997799,
       "globalVars": {},
       "guid": "",
       "height": "auto",
       "hideCommandCode": false,
       "hideCommandResult": false,
       "iPythonMetadata": null,
       "inputWidgets": {},
       "isLockedInExamMode": false,
       "latestUser": "a user",
       "latestUserId": null,
       "listResultMetadata": [
        [
         "table",
         25
        ]
       ],
       "metadata": {
        "byteLimit": 2048000,
        "rowLimit": 10000
       },
       "nuid": "3f8be4dc-e844-4892-91e8-6033938c465e",
       "origId": 0,
       "parentHierarchy": [],
       "pivotAggregation": null,
       "pivotColumns": null,
       "position": 3.0,
       "resultDbfsErrorMessage": null,
       "resultDbfsStatus": "INLINED_IN_TREE",
       "results": null,
       "showCommandTitle": false,
       "startTime": 1741804992915,
       "state": "input",
       "streamStates": {},
       "subcommandOptions": {
        "queryPlan": {
         "groups": [
          {
           "column": "nation_name",
           "type": "column"
          }
         ],
         "selects": [
          {
           "column": "nation_name",
           "type": "column"
          },
          {
           "alias": "column_492e263b208",
           "args": [
            {
             "column": "total_spent",
             "type": "column"
            }
           ],
           "function": "SUM",
           "type": "function"
          }
         ]
        }
       },
       "submitTime": 1741804992565,
       "subtype": "tableResultSubCmd.visualization",
       "tableResultIndex": 0,
       "tableResultSettingsMap": {},
       "useConsistentColors": false,
       "version": "CommandV1",
       "width": "auto",
       "workflows": null,
       "xColumns": null,
       "yColumns": null
      }
     },
     "output_type": "display_data"
    }
   ],
   "source": [
    "display(df)"
   ]
  }
 ],
 "metadata": {
  "application/vnd.databricks.v1+notebook": {
   "computePreferences": null,
   "dashboards": [],
   "environmentMetadata": {
    "base_environment": "",
    "environment_version": "2"
   },
   "language": "python",
   "notebookMetadata": {
    "pythonIndentUnit": 4
   },
   "notebookName": "Untitled Notebook 2025-03-12 13_33_24",
   "widgets": {}
  },
  "language_info": {
   "name": "python"
  }
 },
 "nbformat": 4,
 "nbformat_minor": 0
}
