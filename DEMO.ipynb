{
 "cells": [
  {
   "cell_type": "code",
   "execution_count": 0,
   "metadata": {
    "application/vnd.databricks.v1+cell": {
     "cellMetadata": {
      "byteLimit": 2048000,
      "rowLimit": 10000
     },
     "inputWidgets": {},
     "nuid": "48f7465f-1687-415f-aa20-c68fe377d589",
     "showTitle": false,
     "tableResultSettingsMap": {},
     "title": ""
    }
   },
   "outputs": [],
   "source": [
    "tables = spark.sql(\"SHOW TABLES IN samples.bakehouse\").collect()\n",
    "\n",
    "for i in tables:\n",
    "    print(i[1])\n",
    "    df = spark.sql(\"SELECT * FROM samples.bakehouse.\" + i[1])\n",
    "    # df.write.saveAsTable(\"practice_sandbox.ma_sandbox.\" + i[1])\n",
    "\n",
    "display(df)"
   ]
  },
  {
   "cell_type": "code",
   "execution_count": 0,
   "metadata": {
    "application/vnd.databricks.v1+cell": {
     "cellMetadata": {
      "byteLimit": 2048000,
      "implicitDf": true,
      "rowLimit": 10000
     },
     "inputWidgets": {},
     "nuid": "f832e2bd-7bbd-484d-a241-ff7cad266be8",
     "showTitle": false,
     "tableResultSettingsMap": {},
     "title": ""
    }
   },
   "outputs": [],
   "source": [
    "%sql\n",
    "SELECT st.* \n",
    "FROM practice_sandbox.ma_sandbox.sales_transactions st\n",
    "JOIN practice_sandbox.ma_sandbox.sales_franchises sf ON st.franchiseID = sf.franchiseID\n",
    "JOIN practice_sandbox.ma_sandbox.sales_suppliers ss ON sf.supplierID = ss.supplierID;\n",
    "--JOIN practice_sandbox.ma_sandbox.sales_customers sc ON st.customerID = sc.customerID"
   ]
  },
  {
   "cell_type": "code",
   "execution_count": 0,
   "metadata": {
    "application/vnd.databricks.v1+cell": {
     "cellMetadata": {
      "byteLimit": 2048000,
      "implicitDf": true,
      "rowLimit": 10000
     },
     "inputWidgets": {},
     "nuid": "06dacac4-dcb5-4936-b729-b0f16ac7aa75",
     "showTitle": false,
     "tableResultSettingsMap": {},
     "title": ""
    }
   },
   "outputs": [],
   "source": [
    "%sql\n",
    "-- Step 1: Create the Masking Function\n",
    "CREATE OR REPLACE FUNCTION mask_cc_number (cc_number STRING)\n",
    "RETURNS STRING\n",
    "RETURN CASE WHEN is_member('Data Learning Series1') THEN cc_number ELSE CONCAT('XXXX-XXXX-XXXX-', RIGHT(cc_number, 4)) END;\n",
    "\n",
    "ALTER TABLE practice_sandbox.ma_sandbox.sales_transactions ALTER COLUMN cardNumber SET MASK mask_cc_number;\n",
    "\n"
   ]
  },
  {
   "cell_type": "code",
   "execution_count": 0,
   "metadata": {
    "application/vnd.databricks.v1+cell": {
     "cellMetadata": {
      "byteLimit": 2048000,
      "implicitDf": true,
      "rowLimit": 10000
     },
     "inputWidgets": {},
     "nuid": "fd530823-961e-495a-8217-f3e17f417f34",
     "showTitle": false,
     "tableResultSettingsMap": {},
     "title": ""
    }
   },
   "outputs": [],
   "source": [
    "%sql\n",
    "SHOW GROUPS"
   ]
  }
 ],
 "metadata": {
  "application/vnd.databricks.v1+notebook": {
   "computePreferences": null,
   "dashboards": [],
   "environmentMetadata": {
    "base_environment": "",
    "environment_version": "2"
   },
   "language": "python",
   "notebookMetadata": {
    "mostRecentlyExecutedCommandWithImplicitDF": {
     "commandId": 2866533021096258,
     "dataframes": [
      "_sqldf"
     ]
    },
    "pythonIndentUnit": 4
   },
   "notebookName": "DEMO",
   "widgets": {}
  },
  "language_info": {
   "name": "python"
  }
 },
 "nbformat": 4,
 "nbformat_minor": 0
}
