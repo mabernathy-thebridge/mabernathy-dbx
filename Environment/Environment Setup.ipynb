{
 "cells": [
  {
   "cell_type": "code",
   "execution_count": 0,
   "metadata": {
    "application/vnd.databricks.v1+cell": {
     "cellMetadata": {
      "byteLimit": 2048000,
      "rowLimit": 10000
     },
     "inputWidgets": {},
     "nuid": "48f7465f-1687-415f-aa20-c68fe377d589",
     "showTitle": false,
     "tableResultSettingsMap": {},
     "title": ""
    }
   },
   "outputs": [],
   "source": [
    "# Copy all tables to new schema from sample data\n",
    "\n",
    "tables = spark.sql(\"SHOW TABLES IN samples.tpch\").collect()\n",
    "\n",
    "for i in tables:\n",
    "    if i[1] != \"_sqldf\":\n",
    "        print(i[1])\n",
    "        df = spark.sql(\"SELECT * FROM samples.tpch.\" + i[1])\n",
    "        df.write.saveAsTable(\"practice_sandbox.ma_sandbox.bronze_\" + i[1])\n",
    "\n",
    "# display(df)"
   ]
  }
 ],
 "metadata": {
  "application/vnd.databricks.v1+notebook": {
   "computePreferences": null,
   "dashboards": [],
   "environmentMetadata": {
    "base_environment": "",
    "environment_version": "2"
   },
   "language": "python",
   "notebookMetadata": {
    "mostRecentlyExecutedCommandWithImplicitDF": {
     "commandId": 2866533021096258,
     "dataframes": [
      "_sqldf"
     ]
    },
    "pythonIndentUnit": 4
   },
   "notebookName": "Environment Setup",
   "widgets": {}
  },
  "language_info": {
   "name": "python"
  }
 },
 "nbformat": 4,
 "nbformat_minor": 0
}
