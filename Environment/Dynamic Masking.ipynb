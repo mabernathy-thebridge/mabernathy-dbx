{
 "cells": [
  {
   "cell_type": "code",
   "execution_count": 0,
   "metadata": {
    "application/vnd.databricks.v1+cell": {
     "cellMetadata": {},
     "inputWidgets": {},
     "nuid": "2a062f03-0f4e-46c1-841e-4819b1ace7d5",
     "showTitle": false,
     "tableResultSettingsMap": {},
     "title": ""
    }
   },
   "outputs": [],
   "source": [
    "SHOW GROUPS"
   ]
  },
  {
   "cell_type": "code",
   "execution_count": 0,
   "metadata": {
    "application/vnd.databricks.v1+cell": {
     "cellMetadata": {},
     "inputWidgets": {},
     "nuid": "6ccab68a-3e57-4e7d-ae75-47b9aeba4d66",
     "showTitle": false,
     "tableResultSettingsMap": {},
     "title": ""
    }
   },
   "outputs": [],
   "source": [
    "CREATE OR REPLACE FUNCTION mask_cc_number (cc_number STRING)\n",
    "RETURNS STRING\n",
    "RETURN CASE WHEN is_member('Data Learning Series1') THEN cc_number ELSE CONCAT('XXXX-XXXX-XXXX-', RIGHT(cc_number, 4)) END;\n",
    "\n",
    "ALTER TABLE practice_sandbox.ma_sandbox.sales_transactions ALTER COLUMN cardNumber SET MASK mask_cc_number;\n",
    "\n"
   ]
  }
 ],
 "metadata": {
  "application/vnd.databricks.v1+notebook": {
   "computePreferences": null,
   "dashboards": [],
   "environmentMetadata": {
    "base_environment": "",
    "environment_version": "2"
   },
   "language": "sql",
   "notebookMetadata": {
    "pythonIndentUnit": 4
   },
   "notebookName": "Dynamic Masking",
   "widgets": {}
  },
  "language_info": {
   "name": "sql"
  }
 },
 "nbformat": 4,
 "nbformat_minor": 0
}
